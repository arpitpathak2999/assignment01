{
 "cells": [
  {
   "cell_type": "code",
   "execution_count": null,
   "id": "dbe9a8c8-f16a-4193-9838-dc2dfe35a100",
   "metadata": {},
   "outputs": [],
   "source": [
    "Q1) who develop the python programning language? \n",
    "ans :- the python programing language is developd by the Guido Van Rossum.\n",
    " "
   ]
  },
  {
   "cell_type": "code",
   "execution_count": null,
   "id": "12952fdc-c5d0-4bbf-931a-c6b365cc6dc2",
   "metadata": {},
   "outputs": [],
   "source": [
    "Q2) which type of programming does the python support?\n",
    "ans - python support  four main programming paradigms : imperative,functional,procedural,and object-oriented"
   ]
  },
  {
   "cell_type": "code",
   "execution_count": null,
   "id": "2955bc42-4977-4939-96a7-8558e9162c40",
   "metadata": {},
   "outputs": [],
   "source": [
    "Q3) is python case sensitive when dealing with identifiers?\n",
    "ans - yes,python is case sensetive language when dealing with identifiers."
   ]
  },
  {
   "cell_type": "code",
   "execution_count": null,
   "id": "b467f941-b212-46a7-9290-058c220efd7b",
   "metadata": {},
   "outputs": [],
   "source": [
    "Q4) what is the correct extension of python file?\n",
    "ans - the correct extension for python file is .py or .pyi "
   ]
  },
  {
   "cell_type": "code",
   "execution_count": null,
   "id": "d8ea2768-1ea5-48dd-a9f3-dc842dde2a46",
   "metadata": {},
   "outputs": [],
   "source": [
    "Q5) is python code compiled or interpreted?\n",
    "ans - python is interpreted language. "
   ]
  },
  {
   "cell_type": "code",
   "execution_count": null,
   "id": "d3417257-eecb-40b0-a534-fdb3b35ca30c",
   "metadata": {},
   "outputs": [],
   "source": [
    "Q6) name a few block of code used to define in python language?\n",
    "ans - few block of cede used to define in python language are module,a function body and a class defination."
   ]
  },
  {
   "cell_type": "code",
   "execution_count": null,
   "id": "75430b29-01a7-492f-ae88-89852343f37f",
   "metadata": {},
   "outputs": [],
   "source": [
    "Q7) state a charcter used to give single line comment in python?\n",
    "ans - for single line comment in python we use '#' symbol."
   ]
  },
  {
   "cell_type": "code",
   "execution_count": null,
   "id": "c7bc5f7c-15a1-41e2-ad7d-72f1b4956e14",
   "metadata": {},
   "outputs": [],
   "source": [
    "Q8) mention a fuction which can help us to find version  of python that we are currently working one?\n",
    "ans - the fuction sys.version  can help us to find the version of python that we are currentlyworking on."
   ]
  },
  {
   "cell_type": "code",
   "execution_count": null,
   "id": "c366e9a7-9d88-4dcb-a8d3-6546dda7ab7f",
   "metadata": {},
   "outputs": [],
   "source": [
    "Q9) python support the creation of anonymous function at run time, using a construct called .....\n",
    "ans - lambda"
   ]
  },
  {
   "cell_type": "code",
   "execution_count": null,
   "id": "19d9889e-ca9f-4001-bdae-1e99c3dabe9f",
   "metadata": {},
   "outputs": [],
   "source": [
    "Q10) what does pip stand for python ? \n",
    "ans- pip stand for preferred installer program."
   ]
  },
  {
   "cell_type": "code",
   "execution_count": null,
   "id": "e2a9ff4a-8b3e-49bb-ad76-635c576b5ace",
   "metadata": {},
   "outputs": [],
   "source": [
    "Q11) mention a few built in function in python? \n",
    "ans - few built in function in python are print(),type(),input(),sorted(),max(),sum() etc."
   ]
  },
  {
   "cell_type": "code",
   "execution_count": null,
   "id": "abf14586-0821-4cd1-a6b7-3815cf3f21fd",
   "metadata": {},
   "outputs": [],
   "source": [
    "Q12) what is the maximum possible length of an identifier in python?\n",
    "ans - the maximum possible length of an identifier in python is 79 character."
   ]
  },
  {
   "cell_type": "code",
   "execution_count": null,
   "id": "348d9a7b-44e8-46d6-9917-e97e93c93776",
   "metadata": {},
   "outputs": [],
   "source": [
    "Q13) what are the benefits of using python?\n",
    "ans - the benefits of using python are following : \n",
    "      1) less coding : - python has awesome standerd library support.\n",
    "      2) affordable : - python is free therfore indivisuals small or big company or organisation can leverage the free available resource to build application\n",
    "      3) python code can run on any machine whether it is linux , mac or window."
   ]
  },
  {
   "cell_type": "code",
   "execution_count": null,
   "id": "4ed2984d-0bbc-42a2-8f09-92acced922a2",
   "metadata": {},
   "outputs": [],
   "source": [
    "Q14) how is memory mannaged in python?\n",
    "ans - momory management in python involve a private heap contaning all python object and data structure.the management of this private heap is ensured internally by the python momory manager."
   ]
  },
  {
   "cell_type": "code",
   "execution_count": null,
   "id": "6b5e6124-bee7-4305-abbf-5052b1c16979",
   "metadata": {},
   "outputs": [],
   "source": [
    "Q15) how to install python on window and set path variable?\n",
    "ans- step for installing python in window: \n",
    "     1) installing python from python.org\n",
    "     2) then after downloading double click on the executable and install it.\n",
    "    \n",
    "   \n",
    "      The complete path of python.exe can be added by:\n",
    "\n",
    "Right-clicking This PC and going to Properties.\n",
    "\n",
    "Clicking on the Advanced system settings in the menu on the left.\n",
    "\n",
    "Clicking on the Environment Variables button o​n the bottom right.\n",
    "\n",
    "In the System variables section, selecting the Path variable and clicking on Edit. The next screen will show all the directories that are currently a part of the PATH variable.\n",
    "\n",
    "Clicking on New and entering Python’s install directory."
   ]
  },
  {
   "cell_type": "code",
   "execution_count": null,
   "id": "3e8c6025-d0fd-40f5-9498-998beac090c7",
   "metadata": {},
   "outputs": [],
   "source": [
    "Q16) is identation required in python?\n",
    "ans - yes, identation required in python."
   ]
  },
  {
   "cell_type": "code",
   "execution_count": null,
   "id": "05c3175c-6067-4506-bd1c-e2276a943394",
   "metadata": {},
   "outputs": [],
   "source": []
  },
  {
   "cell_type": "code",
   "execution_count": null,
   "id": "edaf8f54-5f0b-4224-8760-42fe9e183d08",
   "metadata": {},
   "outputs": [],
   "source": []
  }
 ],
 "metadata": {
  "kernelspec": {
   "display_name": "Python 3 (ipykernel)",
   "language": "python",
   "name": "python3"
  },
  "language_info": {
   "codemirror_mode": {
    "name": "ipython",
    "version": 3
   },
   "file_extension": ".py",
   "mimetype": "text/x-python",
   "name": "python",
   "nbconvert_exporter": "python",
   "pygments_lexer": "ipython3",
   "version": "3.10.8"
  }
 },
 "nbformat": 4,
 "nbformat_minor": 5
}
